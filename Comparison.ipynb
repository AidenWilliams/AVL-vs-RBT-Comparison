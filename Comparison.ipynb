{
 "cells": [
  {
   "cell_type": "markdown",
   "source": [
    "# AVL Tree and RB Tree Comparison\n",
    "***\n",
    "# Table of Contents\n",
    "\n",
    "1.   [Imports](#Imports)\n",
    "2.   [Setup](#Setup)\n",
    "3.   [Tests](#Tests)\n",
    "3.   [Results](#Results)"
   ],
   "metadata": {
    "collapsed": false
   }
  },
  {
   "cell_type": "markdown",
   "source": [
    "# Imports\n",
    "4 libraries where imported:\n",
    "\n",
    "* AVL - My implementation for an AVL Tree\n",
    "* RBT - My implementation for an RBT Tree\n",
    "* random - Used to create the random sets for comparison\n",
    "* tqdm - Nice progress bars"
   ],
   "metadata": {
    "collapsed": false,
    "pycharm": {
     "name": "#%% md\n"
    }
   }
  },
  {
   "cell_type": "code",
   "execution_count": 1,
   "metadata": {
    "collapsed": true
   },
   "outputs": [],
   "source": [
    "from AVL import AVL\n",
    "from RBT import RBT\n",
    "from random import randint, sample\n",
    "from tqdm.notebook import tqdm"
   ]
  },
  {
   "cell_type": "markdown",
   "source": [
    "# Setup\n",
    "\n",
    "#### Set n to be a random number between 1000 and 3000."
   ],
   "metadata": {
    "collapsed": false,
    "pycharm": {
     "name": "#%% md\n"
    }
   }
  },
  {
   "cell_type": "code",
   "execution_count": 2,
   "outputs": [
    {
     "data": {
      "text/plain": "2951"
     },
     "execution_count": 2,
     "metadata": {},
     "output_type": "execute_result"
    }
   ],
   "source": [
    "# Pick a random number between 1000 and 3000 as n.\n",
    "n = randint(1000, 3000)\n",
    "n"
   ],
   "metadata": {
    "collapsed": false,
    "pycharm": {
     "name": "#%%\n"
    }
   }
  },
  {
   "cell_type": "markdown",
   "source": [
    "#### Create set X size n containing unique random numbers between -3000 and 3000."
   ],
   "metadata": {
    "collapsed": false,
    "pycharm": {
     "name": "#%% md\n"
    }
   }
  },
  {
   "cell_type": "code",
   "execution_count": 3,
   "outputs": [
    {
     "data": {
      "text/plain": "2951"
     },
     "execution_count": 3,
     "metadata": {},
     "output_type": "execute_result"
    }
   ],
   "source": [
    "# Generate n random numbers between -3000 and 3000\n",
    "X = set(sample(range(-3000, 3000), n))\n",
    "\n",
    "len(X)"
   ],
   "metadata": {
    "collapsed": false,
    "pycharm": {
     "name": "#%%\n"
    }
   }
  },
  {
   "cell_type": "markdown",
   "source": [
    "#### Set m to be a random number between 500 and 1000."
   ],
   "metadata": {
    "collapsed": false
   }
  },
  {
   "cell_type": "code",
   "execution_count": 4,
   "outputs": [
    {
     "data": {
      "text/plain": "680"
     },
     "execution_count": 4,
     "metadata": {},
     "output_type": "execute_result"
    }
   ],
   "source": [
    "# Pick a random number between 500 and 1000 as m.\n",
    "m = randint(500, 1000)\n",
    "m"
   ],
   "metadata": {
    "collapsed": false,
    "pycharm": {
     "name": "#%%\n"
    }
   }
  },
  {
   "cell_type": "markdown",
   "source": [
    "#### Create set X size n containing unique random numbers between -3000 and 3000."
   ],
   "metadata": {
    "collapsed": false
   }
  },
  {
   "cell_type": "code",
   "execution_count": 5,
   "outputs": [
    {
     "data": {
      "text/plain": "680"
     },
     "execution_count": 5,
     "metadata": {},
     "output_type": "execute_result"
    }
   ],
   "source": [
    "# Generate m random numbers between -3000 and 3000\n",
    "Y = set(sample(range(-3000, 3000), m))\n",
    "\n",
    "len(Y)"
   ],
   "metadata": {
    "collapsed": false,
    "pycharm": {
     "name": "#%%\n"
    }
   }
  },
  {
   "cell_type": "markdown",
   "source": [
    "#### Number of common elements in X and Y."
   ],
   "metadata": {
    "collapsed": false,
    "pycharm": {
     "name": "#%% md\n"
    }
   }
  },
  {
   "cell_type": "code",
   "execution_count": 6,
   "outputs": [
    {
     "data": {
      "text/plain": "325"
     },
     "execution_count": 6,
     "metadata": {},
     "output_type": "execute_result"
    }
   ],
   "source": [
    "num_common = len(set.intersection(X, Y))\n",
    "num_common"
   ],
   "metadata": {
    "collapsed": false,
    "pycharm": {
     "name": "#%%\n"
    }
   }
  },
  {
   "cell_type": "markdown",
   "source": [
    "#### Set k to be a random number between 1000 and 2000."
   ],
   "metadata": {
    "collapsed": false
   }
  },
  {
   "cell_type": "code",
   "execution_count": 7,
   "outputs": [
    {
     "data": {
      "text/plain": "1223"
     },
     "execution_count": 7,
     "metadata": {},
     "output_type": "execute_result"
    }
   ],
   "source": [
    "# Pick a random number between 1000 and 2000 as k.\n",
    "k = randint(1000, 2000)\n",
    "k"
   ],
   "metadata": {
    "collapsed": false,
    "pycharm": {
     "name": "#%%\n"
    }
   }
  },
  {
   "cell_type": "markdown",
   "source": [
    "#### Create set Z size n containing unique random numbers between -3000 and 3000."
   ],
   "metadata": {
    "collapsed": false
   }
  },
  {
   "cell_type": "code",
   "execution_count": 8,
   "outputs": [
    {
     "data": {
      "text/plain": "1223"
     },
     "execution_count": 8,
     "metadata": {},
     "output_type": "execute_result"
    }
   ],
   "source": [
    "# Generate k random numbers between -3000 and 3000\n",
    "Z = set(sample(range(-3000, 3000), k))\n",
    "\n",
    "len(Z)"
   ],
   "metadata": {
    "collapsed": false,
    "pycharm": {
     "name": "#%%\n"
    }
   }
  },
  {
   "cell_type": "markdown",
   "source": [
    "# Tests"
   ],
   "metadata": {
    "collapsed": false
   }
  },
  {
   "cell_type": "code",
   "execution_count": 9,
   "outputs": [],
   "source": [
    "rbt = RBT()\n",
    "avl = AVL()\n",
    "\n",
    "result_template =   {\n",
    "                        \"rotations\": 0,\n",
    "                        \"height\": 0,\n",
    "                        \"comparison\": 0,\n",
    "                        \"nodes\": 0\n",
    "                    }\n",
    "\n",
    "def getStats(result, rbt, avl):\n",
    "    result[\"rbt\"][\"rotations\"] = rbt.rotations\n",
    "    result[\"rbt\"][\"height\"] = rbt.height(rbt.root)\n",
    "    result[\"rbt\"][\"comparison\"] = rbt.comparisons\n",
    "    result[\"rbt\"][\"nodes\"] = rbt.nodes\n",
    "\n",
    "    result[\"avl\"][\"rotations\"] = avl.rotations\n",
    "    result[\"avl\"][\"height\"] = avl.height(avl.root)\n",
    "    result[\"avl\"][\"comparison\"] = avl.comparisons\n",
    "    result[\"avl\"][\"nodes\"] = avl.nodes"
   ],
   "metadata": {
    "collapsed": false,
    "pycharm": {
     "name": "#%%\n"
    }
   }
  },
  {
   "cell_type": "markdown",
   "source": [
    "## Insertion"
   ],
   "metadata": {
    "collapsed": false,
    "pycharm": {
     "name": "#%% md\n"
    }
   }
  },
  {
   "cell_type": "code",
   "execution_count": 10,
   "outputs": [
    {
     "data": {
      "text/plain": "  0%|          | 0/2951 [00:00<?, ?it/s]",
      "application/vnd.jupyter.widget-view+json": {
       "version_major": 2,
       "version_minor": 0,
       "model_id": "f73d8e00c3bc4bd39925f9c287a218dd"
      }
     },
     "metadata": {},
     "output_type": "display_data"
    }
   ],
   "source": [
    "for item in tqdm(X):\n",
    "    rbt.insert(item)\n",
    "    avl.insert(item)\n",
    "\n",
    "insert =    {\n",
    "                \"rbt\": result_template,\n",
    "                \"avl\": result_template\n",
    "            }\n",
    "\n",
    "\n",
    "getStats(insert, rbt, avl)"
   ],
   "metadata": {
    "collapsed": false,
    "pycharm": {
     "name": "#%%\n"
    }
   }
  },
  {
   "cell_type": "markdown",
   "source": [
    "## Deletion"
   ],
   "metadata": {
    "collapsed": false
   }
  },
  {
   "cell_type": "code",
   "execution_count": 11,
   "outputs": [
    {
     "data": {
      "text/plain": "  0%|          | 0/680 [00:00<?, ?it/s]",
      "application/vnd.jupyter.widget-view+json": {
       "version_major": 2,
       "version_minor": 0,
       "model_id": "fc6264363d9c4bc595e3f5c1175d7b5a"
      }
     },
     "metadata": {},
     "output_type": "display_data"
    }
   ],
   "source": [
    "for item in tqdm(Y):\n",
    "    rbt.delete(item)\n",
    "    avl.delete(item)\n",
    "\n",
    "delete =    {\n",
    "                \"rbt\": result_template,\n",
    "                \"avl\": result_template\n",
    "            }\n",
    "\n",
    "\n",
    "getStats(delete, rbt, avl)"
   ],
   "metadata": {
    "collapsed": false,
    "pycharm": {
     "name": "#%%\n"
    }
   }
  },
  {
   "cell_type": "markdown",
   "source": [
    "## Search"
   ],
   "metadata": {
    "collapsed": false,
    "pycharm": {
     "name": "#%% md\n"
    }
   }
  },
  {
   "cell_type": "code",
   "execution_count": 12,
   "outputs": [
    {
     "data": {
      "text/plain": "  0%|          | 0/1223 [00:00<?, ?it/s]",
      "application/vnd.jupyter.widget-view+json": {
       "version_major": 2,
       "version_minor": 0,
       "model_id": "bd19aed12fdf4fad94b8a57660af6ff0"
      }
     },
     "metadata": {},
     "output_type": "display_data"
    }
   ],
   "source": [
    "for item in tqdm(Z):\n",
    "    rbt.search(item, rbt.root)\n",
    "    avl.search(item, avl.root)\n",
    "\n",
    "search =    {\n",
    "                \"rbt\": result_template,\n",
    "                \"avl\": result_template\n",
    "            }\n",
    "\n",
    "getStats(search, rbt, avl)"
   ],
   "metadata": {
    "collapsed": false,
    "pycharm": {
     "name": "#%%\n"
    }
   }
  },
  {
   "cell_type": "markdown",
   "source": [
    "# Results"
   ],
   "metadata": {
    "collapsed": false,
    "pycharm": {
     "name": "#%% md\n"
    }
   },
   "outputs": []
  },
  {
   "cell_type": "code",
   "execution_count": 13,
   "outputs": [
    {
     "name": "stdout",
     "output_type": "stream",
     "text": [
      "Insertion\n",
      "\n",
      "AVL\t\t\t\t\tRBT\n",
      "Rotations: 2944\t\t\t\tRotations: 2944\n",
      "Height: 12\t\t\t\tHeight: 12\n",
      "Comparisons: 26558786\t\t\tComparisons: 26558786\n",
      "Nodes: 2270\t\t\t\tNodes: 2270\n",
      "******************************************************************\n",
      "Deletion\n",
      "\n",
      "AVL\t\t\t\t\tRBT\n",
      "Rotations: 2944\t\t\t\tRotations: 2944\n",
      "Height: 12\t\t\t\tHeight: 12\n",
      "Comparisons: 26558786\t\t\tComparisons: 26558786\n",
      "Nodes: 2270\t\t\t\tNodes: 2270\n",
      "******************************************************************\n",
      "Search\n",
      "\n",
      "AVL\t\t\t\t\tRBT\n",
      "Rotations: 2944\t\t\t\tRotations: 2944\n",
      "Height: 12\t\t\t\tHeight: 12\n",
      "Comparisons: 26558786\t\t\tComparisons: 26558786\n",
      "Nodes: 2270\t\t\t\tNodes: 2270\n",
      "******************************************************************\n"
     ]
    }
   ],
   "source": [
    "print_template = \"{}\\n\\n\" \\\n",
    "                 \"AVL\\t\\t\\t\\t\\tRBT\\n\" \\\n",
    "                 \"Rotations: {}\\t\\t\\t\\tRotations: {}\\n\" \\\n",
    "                 \"Height: {}\\t\\t\\t\\tHeight: {}\\n\" \\\n",
    "                 \"Comparisons: {}\\t\\t\\tComparisons: {}\\n\" \\\n",
    "                 \"Nodes: {}\\t\\t\\t\\tNodes: {}\\n\" \\\n",
    "                 \"******************************************************************\"\n",
    "\n",
    "print(print_template.format(\"Insertion\",\n",
    "                            insert[\"avl\"][\"rotations\"], insert[\"rbt\"][\"rotations\"],\n",
    "                            insert[\"avl\"][\"height\"], insert[\"rbt\"][\"height\"],\n",
    "                            insert[\"avl\"][\"comparison\"], insert[\"rbt\"][\"comparison\"],\n",
    "                            insert[\"avl\"][\"nodes\"], insert[\"rbt\"][\"nodes\"],\n",
    "                            ))\n",
    "\n",
    "print(print_template.format(\"Deletion\",\n",
    "                            delete[\"avl\"][\"rotations\"], delete[\"rbt\"][\"rotations\"],\n",
    "                            delete[\"avl\"][\"height\"], delete[\"rbt\"][\"height\"],\n",
    "                            delete[\"avl\"][\"comparison\"], delete[\"rbt\"][\"comparison\"],\n",
    "                            delete[\"avl\"][\"nodes\"], delete[\"rbt\"][\"nodes\"],\n",
    "                            ))\n",
    "\n",
    "print(print_template.format(\"Search\",\n",
    "                            search[\"avl\"][\"rotations\"], search[\"rbt\"][\"rotations\"],\n",
    "                            search[\"avl\"][\"height\"], search[\"rbt\"][\"height\"],\n",
    "                            search[\"avl\"][\"comparison\"], search[\"rbt\"][\"comparison\"],\n",
    "                            search[\"avl\"][\"nodes\"], search[\"rbt\"][\"nodes\"],\n",
    "                            ))"
   ],
   "metadata": {
    "collapsed": false,
    "pycharm": {
     "name": "#%%\n"
    }
   }
  }
 ],
 "metadata": {
  "kernelspec": {
   "display_name": "Python 3",
   "language": "python",
   "name": "python3"
  },
  "language_info": {
   "codemirror_mode": {
    "name": "ipython",
    "version": 2
   },
   "file_extension": ".py",
   "mimetype": "text/x-python",
   "name": "python",
   "nbconvert_exporter": "python",
   "pygments_lexer": "ipython2",
   "version": "2.7.6"
  }
 },
 "nbformat": 4,
 "nbformat_minor": 0
}