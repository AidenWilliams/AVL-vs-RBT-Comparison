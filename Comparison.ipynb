{
 "cells": [
  {
   "cell_type": "markdown",
   "source": [
    "# AVL Tree and RB Tree Comparison\n",
    "***\n",
    "# Table of Contents\n",
    "\n",
    "1.   [Imports](#Imports)\n",
    "2.   [Setup](#Setup)\n",
    "3.   [Tests](#Tests)\n",
    "3.   [Results](#Results)"
   ],
   "metadata": {
    "collapsed": false
   }
  },
  {
   "cell_type": "markdown",
   "source": [
    "# Imports\n",
    "4 libraries where imported:\n",
    "\n",
    "* AVL - My implementation for an AVL Tree\n",
    "* RBT - My implementation for an RBT Tree\n",
    "* random - Used to create the random sets for comparison\n",
    "* tqdm - Nice progress bars"
   ],
   "metadata": {
    "collapsed": false,
    "pycharm": {
     "name": "#%% md\n"
    }
   }
  },
  {
   "cell_type": "code",
   "execution_count": 1,
   "metadata": {
    "collapsed": true
   },
   "outputs": [],
   "source": [
    "from AVL import AVL\n",
    "from RBT import RBT\n",
    "from random import randint, sample\n",
    "from tqdm.notebook import tqdm"
   ]
  },
  {
   "cell_type": "markdown",
   "source": [
    "# Setup\n",
    "\n",
    "#### Set n to be a random number between 1000 and 3000."
   ],
   "metadata": {
    "collapsed": false,
    "pycharm": {
     "name": "#%% md\n"
    }
   }
  },
  {
   "cell_type": "code",
   "execution_count": 2,
   "outputs": [
    {
     "data": {
      "text/plain": "1981"
     },
     "execution_count": 2,
     "metadata": {},
     "output_type": "execute_result"
    }
   ],
   "source": [
    "# Pick a random number between 1000 and 3000 as n.\n",
    "n = randint(1000, 3000)\n",
    "n"
   ],
   "metadata": {
    "collapsed": false,
    "pycharm": {
     "name": "#%%\n"
    }
   }
  },
  {
   "cell_type": "markdown",
   "source": [
    "#### Create set X size n containing unique random numbers between -3000 and 3000."
   ],
   "metadata": {
    "collapsed": false,
    "pycharm": {
     "name": "#%% md\n"
    }
   }
  },
  {
   "cell_type": "code",
   "execution_count": 3,
   "outputs": [
    {
     "data": {
      "text/plain": "1981"
     },
     "execution_count": 3,
     "metadata": {},
     "output_type": "execute_result"
    }
   ],
   "source": [
    "# Generate n random numbers between -3000 and 3000\n",
    "X = set(sample(range(-3000, 3000), n))\n",
    "\n",
    "len(X)"
   ],
   "metadata": {
    "collapsed": false,
    "pycharm": {
     "name": "#%%\n"
    }
   }
  },
  {
   "cell_type": "markdown",
   "source": [
    "#### Set m to be a random number between 500 and 1000."
   ],
   "metadata": {
    "collapsed": false
   }
  },
  {
   "cell_type": "code",
   "execution_count": 4,
   "outputs": [
    {
     "data": {
      "text/plain": "578"
     },
     "execution_count": 4,
     "metadata": {},
     "output_type": "execute_result"
    }
   ],
   "source": [
    "# Pick a random number between 500 and 1000 as m.\n",
    "m = randint(500, 1000)\n",
    "m"
   ],
   "metadata": {
    "collapsed": false,
    "pycharm": {
     "name": "#%%\n"
    }
   }
  },
  {
   "cell_type": "markdown",
   "source": [
    "#### Create set X size n containing unique random numbers between -3000 and 3000."
   ],
   "metadata": {
    "collapsed": false
   }
  },
  {
   "cell_type": "code",
   "execution_count": 5,
   "outputs": [
    {
     "data": {
      "text/plain": "578"
     },
     "execution_count": 5,
     "metadata": {},
     "output_type": "execute_result"
    }
   ],
   "source": [
    "# Generate m random numbers between -3000 and 3000\n",
    "Y = set(sample(range(-3000, 3000), m))\n",
    "\n",
    "len(Y)"
   ],
   "metadata": {
    "collapsed": false,
    "pycharm": {
     "name": "#%%\n"
    }
   }
  },
  {
   "cell_type": "markdown",
   "source": [
    "#### Number of common elements in X and Y."
   ],
   "metadata": {
    "collapsed": false,
    "pycharm": {
     "name": "#%% md\n"
    }
   }
  },
  {
   "cell_type": "code",
   "execution_count": 6,
   "outputs": [
    {
     "data": {
      "text/plain": "203"
     },
     "execution_count": 6,
     "metadata": {},
     "output_type": "execute_result"
    }
   ],
   "source": [
    "num_common = len(set.intersection(X, Y))\n",
    "num_common"
   ],
   "metadata": {
    "collapsed": false,
    "pycharm": {
     "name": "#%%\n"
    }
   }
  },
  {
   "cell_type": "markdown",
   "source": [
    "#### Set k to be a random number between 1000 and 2000."
   ],
   "metadata": {
    "collapsed": false
   }
  },
  {
   "cell_type": "code",
   "execution_count": 7,
   "outputs": [
    {
     "data": {
      "text/plain": "1893"
     },
     "execution_count": 7,
     "metadata": {},
     "output_type": "execute_result"
    }
   ],
   "source": [
    "# Pick a random number between 1000 and 2000 as k.\n",
    "k = randint(1000, 2000)\n",
    "k"
   ],
   "metadata": {
    "collapsed": false,
    "pycharm": {
     "name": "#%%\n"
    }
   }
  },
  {
   "cell_type": "markdown",
   "source": [
    "#### Create set Z size n containing unique random numbers between -3000 and 3000."
   ],
   "metadata": {
    "collapsed": false
   }
  },
  {
   "cell_type": "code",
   "execution_count": 8,
   "outputs": [
    {
     "data": {
      "text/plain": "1893"
     },
     "execution_count": 8,
     "metadata": {},
     "output_type": "execute_result"
    }
   ],
   "source": [
    "# Generate k random numbers between -3000 and 3000\n",
    "Z = set(sample(range(-3000, 3000), k))\n",
    "\n",
    "len(Z)"
   ],
   "metadata": {
    "collapsed": false,
    "pycharm": {
     "name": "#%%\n"
    }
   }
  },
  {
   "cell_type": "markdown",
   "source": [
    "# Tests\n",
    "\n",
    "## Insertion"
   ],
   "metadata": {
    "collapsed": false
   }
  },
  {
   "cell_type": "code",
   "execution_count": 9,
   "outputs": [
    {
     "data": {
      "text/plain": "  0%|          | 0/1981 [00:00<?, ?it/s]",
      "application/vnd.jupyter.widget-view+json": {
       "version_major": 2,
       "version_minor": 0,
       "model_id": "3a5ee29e23bf4d7aab6e7b54b8ab2ced"
      }
     },
     "metadata": {},
     "output_type": "display_data"
    }
   ],
   "source": [
    "rbt = RBT()\n",
    "avl = AVL()\n",
    "\n",
    "result_template =   {\n",
    "                        \"rotations\": 0,\n",
    "                        \"height\": 0,\n",
    "                        \"comparison\": 0,\n",
    "                        \"nodes\": 0\n",
    "                    }\n",
    "\n",
    "\n",
    "for item in tqdm(X):\n",
    "    rbt.insert(item)\n",
    "    avl.insert(item)\n",
    "\n",
    "insert =    {\n",
    "                \"rbt\": result_template,\n",
    "                \"avl\": result_template\n",
    "            }\n",
    "\n",
    "insert[\"rbt\"][\"rotations\"] = rbt.rotations\n",
    "insert[\"rbt\"][\"height\"] = rbt.height(rbt.root)\n",
    "insert[\"rbt\"][\"comparison\"] = rbt.comparisons\n",
    "insert[\"rbt\"][\"nodes\"] = rbt.nodes\n",
    "\n",
    "insert[\"avl\"][\"rotations\"] = avl.rotations\n",
    "insert[\"avl\"][\"height\"] = avl.height(avl.root)\n",
    "insert[\"avl\"][\"comparison\"] = avl.comparisons\n",
    "insert[\"avl\"][\"nodes\"] = avl.nodes\n",
    "\n",
    "# rbt_rot_ins = rbt.rotations\n",
    "# rbt_hei_ins = rbt.height(rbt.root)\n",
    "# rbt_com_ins = rbt.comparisons\n",
    "# rbt_nod_ins = rbt.nodes\n",
    "#\n",
    "# avl_rot_ins = avl.rotations\n",
    "# avl_hei_ins = avl.height(avl.root)\n",
    "# avl_com_ins = avl.comparisons\n",
    "# avl_nod_ins = avl.nodes"
   ],
   "metadata": {
    "collapsed": false,
    "pycharm": {
     "name": "#%%\n"
    }
   }
  },
  {
   "cell_type": "markdown",
   "source": [
    "## Deletion"
   ],
   "metadata": {
    "collapsed": false
   }
  },
  {
   "cell_type": "code",
   "execution_count": 10,
   "outputs": [
    {
     "data": {
      "text/plain": "  0%|          | 0/578 [00:00<?, ?it/s]",
      "application/vnd.jupyter.widget-view+json": {
       "version_major": 2,
       "version_minor": 0,
       "model_id": "fa0c38980621449080d36227696a8728"
      }
     },
     "metadata": {},
     "output_type": "display_data"
    }
   ],
   "source": [
    "for item in tqdm(Y):\n",
    "    rbt.delete(item)\n",
    "    avl.delete(item)\n",
    "\n",
    "delete =    {\n",
    "                \"rbt\": result_template,\n",
    "                \"avl\": result_template\n",
    "            }\n",
    "\n",
    "delete[\"rbt\"][\"rotations\"] = rbt.rotations\n",
    "delete[\"rbt\"][\"height\"] = rbt.height(rbt.root)\n",
    "delete[\"rbt\"][\"comparison\"] = rbt.comparisons\n",
    "delete[\"rbt\"][\"nodes\"] = rbt.nodes\n",
    "\n",
    "delete[\"avl\"][\"rotations\"] = avl.rotations\n",
    "delete[\"avl\"][\"height\"] = avl.height(avl.root)\n",
    "delete[\"avl\"][\"comparison\"] = avl.comparisons\n",
    "delete[\"avl\"][\"nodes\"] = avl.nodes"
   ],
   "metadata": {
    "collapsed": false,
    "pycharm": {
     "name": "#%%\n"
    }
   }
  },
  {
   "cell_type": "markdown",
   "source": [
    "## Search"
   ],
   "metadata": {
    "collapsed": false,
    "pycharm": {
     "name": "#%% md\n"
    }
   }
  },
  {
   "cell_type": "code",
   "execution_count": 11,
   "outputs": [
    {
     "data": {
      "text/plain": "  0%|          | 0/1893 [00:00<?, ?it/s]",
      "application/vnd.jupyter.widget-view+json": {
       "version_major": 2,
       "version_minor": 0,
       "model_id": "d07afd3bdc704be1a3f8050c8026dc89"
      }
     },
     "metadata": {},
     "output_type": "display_data"
    }
   ],
   "source": [
    "for item in tqdm(Z):\n",
    "    rbt.search(item, rbt.root)\n",
    "    avl.search(item, avl.root)\n",
    "\n",
    "search =    {\n",
    "                \"rbt\": result_template,\n",
    "                \"avl\": result_template\n",
    "            }\n",
    "\n",
    "search[\"rbt\"][\"rotations\"] = rbt.rotations\n",
    "search[\"rbt\"][\"height\"] = rbt.height(rbt.root)\n",
    "search[\"rbt\"][\"comparison\"] = rbt.comparisons\n",
    "search[\"rbt\"][\"nodes\"] = rbt.nodes\n",
    "\n",
    "search[\"avl\"][\"rotations\"] = avl.rotations\n",
    "search[\"avl\"][\"height\"] = avl.height(avl.root)\n",
    "search[\"avl\"][\"comparison\"] = avl.comparisons\n",
    "search[\"avl\"][\"nodes\"] = avl.nodes"
   ],
   "metadata": {
    "collapsed": false,
    "pycharm": {
     "name": "#%%\n"
    }
   }
  },
  {
   "cell_type": "markdown",
   "source": [
    "# Results"
   ],
   "metadata": {
    "collapsed": false,
    "pycharm": {
     "name": "#%% md\n"
    }
   },
   "outputs": []
  }
 ],
 "metadata": {
  "kernelspec": {
   "display_name": "Python 3",
   "language": "python",
   "name": "python3"
  },
  "language_info": {
   "codemirror_mode": {
    "name": "ipython",
    "version": 2
   },
   "file_extension": ".py",
   "mimetype": "text/x-python",
   "name": "python",
   "nbconvert_exporter": "python",
   "pygments_lexer": "ipython2",
   "version": "2.7.6"
  }
 },
 "nbformat": 4,
 "nbformat_minor": 0
}