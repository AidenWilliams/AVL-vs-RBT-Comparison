{
 "cells": [
  {
   "cell_type": "markdown",
   "source": [
    "# Imports"
   ],
   "metadata": {
    "collapsed": false,
    "pycharm": {
     "name": "#%% md\n"
    }
   }
  },
  {
   "cell_type": "code",
   "execution_count": null,
   "metadata": {
    "collapsed": true,
    "pycharm": {
     "is_executing": true
    }
   },
   "outputs": [],
   "source": [
    "from AVL import AVL\n",
    "from RBT import RBT\n",
    "from random import randint, sample\n",
    "from tqdm.notebook import tqdm"
   ]
  },
  {
   "cell_type": "markdown",
   "source": [
    "Set n to be a random number between 1000 and 3000."
   ],
   "metadata": {
    "collapsed": false,
    "pycharm": {
     "name": "#%% md\n"
    }
   }
  },
  {
   "cell_type": "code",
   "execution_count": 2,
   "outputs": [
    {
     "data": {
      "text/plain": "2198"
     },
     "execution_count": 2,
     "metadata": {},
     "output_type": "execute_result"
    }
   ],
   "source": [
    "# Pick a random number between 1000 and 3000 as n.\n",
    "n = randint(1000, 3000)\n",
    "n"
   ],
   "metadata": {
    "collapsed": false,
    "pycharm": {
     "name": "#%%\n"
    }
   }
  },
  {
   "cell_type": "markdown",
   "source": [
    "Create set X size n containing unique random numbers between -3000 and 3000"
   ],
   "metadata": {
    "collapsed": false,
    "pycharm": {
     "name": "#%% md\n"
    }
   }
  },
  {
   "cell_type": "code",
   "execution_count": 3,
   "outputs": [
    {
     "data": {
      "text/plain": "2198"
     },
     "execution_count": 3,
     "metadata": {},
     "output_type": "execute_result"
    }
   ],
   "source": [
    "# Generate n random numbers between -3000 and 3000\n",
    "X = set(sample(range(-3000, 3000), n))\n",
    "\n",
    "len(X)"
   ],
   "metadata": {
    "collapsed": false,
    "pycharm": {
     "name": "#%%\n"
    }
   }
  },
  {
   "cell_type": "markdown",
   "source": [
    "Set m to be a random number between 500 and 1000."
   ],
   "metadata": {
    "collapsed": false
   }
  },
  {
   "cell_type": "code",
   "execution_count": 4,
   "outputs": [
    {
     "data": {
      "text/plain": "525"
     },
     "execution_count": 4,
     "metadata": {},
     "output_type": "execute_result"
    }
   ],
   "source": [
    "# Pick a random number between 500 and 1000 as m.\n",
    "m = randint(500, 1000)\n",
    "m"
   ],
   "metadata": {
    "collapsed": false,
    "pycharm": {
     "name": "#%%\n"
    }
   }
  },
  {
   "cell_type": "markdown",
   "source": [
    "Create set X size n containing unique random numbers between -3000 and 3000"
   ],
   "metadata": {
    "collapsed": false
   }
  },
  {
   "cell_type": "code",
   "execution_count": 5,
   "outputs": [
    {
     "data": {
      "text/plain": "525"
     },
     "execution_count": 5,
     "metadata": {},
     "output_type": "execute_result"
    }
   ],
   "source": [
    "# Generate m random numbers between -3000 and 3000\n",
    "Y = set(sample(range(-3000, 3000), m))\n",
    "\n",
    "len(Y)"
   ],
   "metadata": {
    "collapsed": false,
    "pycharm": {
     "name": "#%%\n"
    }
   }
  },
  {
   "cell_type": "markdown",
   "source": [
    "Do X and Y have common elements"
   ],
   "metadata": {
    "collapsed": false,
    "pycharm": {
     "name": "#%% md\n"
    }
   }
  },
  {
   "cell_type": "code",
   "execution_count": 6,
   "outputs": [
    {
     "data": {
      "text/plain": "209"
     },
     "execution_count": 6,
     "metadata": {},
     "output_type": "execute_result"
    }
   ],
   "source": [
    "no_common = len(set.intersection(X, Y))\n",
    "no_common"
   ],
   "metadata": {
    "collapsed": false,
    "pycharm": {
     "name": "#%%\n"
    }
   }
  },
  {
   "cell_type": "markdown",
   "source": [
    "do insertions and get statistics"
   ],
   "metadata": {
    "collapsed": false,
    "pycharm": {
     "name": "#%% md\n"
    }
   }
  },
  {
   "cell_type": "code",
   "execution_count": 7,
   "outputs": [
    {
     "data": {
      "text/plain": "  0%|          | 0/2198 [00:00<?, ?it/s]",
      "application/vnd.jupyter.widget-view+json": {
       "version_major": 2,
       "version_minor": 0,
       "model_id": "d541ab434d374615bff5571890d37e2d"
      }
     },
     "metadata": {},
     "output_type": "display_data"
    }
   ],
   "source": [
    "rbt = RBT()\n",
    "avl = AVL()\n",
    "\n",
    "for item in tqdm(X):\n",
    "    rbt.insert(item)\n",
    "    avl.insert(item)"
   ],
   "metadata": {
    "collapsed": false,
    "pycharm": {
     "name": "#%%\n"
    }
   }
  },
  {
   "cell_type": "code",
   "execution_count": 8,
   "outputs": [
    {
     "name": "stdout",
     "output_type": "stream",
     "text": [
      "RBT\n",
      "3249\n",
      "116331\n",
      "2198\n",
      "AVL\n",
      "2188\n",
      "11171861\n",
      "2197\n"
     ]
    }
   ],
   "source": [
    "print(\"RBT\")\n",
    "rbt_rot_ins = rbt.rotations\n",
    "rbt_hei_ins = rbt.height()\n",
    "rbt_com_ins = rbt.comparisons\n",
    "rbt_nod_ins = rbt.nodes\n",
    "\n",
    "print(rbt_rot_ins)\n",
    "print(rbt_hei_ins)\n",
    "print(rbt_com_ins)\n",
    "print(rbt_nod_ins)\n",
    "\n",
    "\n",
    "\n",
    "print(\"AVL\")\n",
    "avl_rot_ins = avl.rotations\n",
    "avl_hei_ins = avl.height()\n",
    "avl_com_ins = avl.comparisons\n",
    "avl_nod_ins = avl.nodes\n",
    "\n",
    "print(avl_rot_ins)\n",
    "print(avl_hei_ins)\n",
    "print(avl_com_ins)\n",
    "print(avl_nod_ins)"
   ],
   "metadata": {
    "collapsed": false,
    "pycharm": {
     "name": "#%%\n"
    }
   }
  },
  {
   "cell_type": "markdown",
   "source": [
    "Do Delete"
   ],
   "metadata": {
    "collapsed": false,
    "pycharm": {
     "name": "#%% md\n"
    }
   }
  },
  {
   "cell_type": "code",
   "execution_count": 9,
   "outputs": [
    {
     "data": {
      "text/plain": "  0%|          | 0/525 [00:00<?, ?it/s]",
      "application/vnd.jupyter.widget-view+json": {
       "version_major": 2,
       "version_minor": 0,
       "model_id": "1d9195d3f4294428b6bca06562f636fd"
      }
     },
     "metadata": {},
     "output_type": "display_data"
    }
   ],
   "source": [
    "for item in tqdm(Y):\n",
    "    rbt.delete(item)\n",
    "    avl.delete(item)"
   ],
   "metadata": {
    "collapsed": false,
    "pycharm": {
     "name": "#%%\n"
    }
   }
  },
  {
   "cell_type": "code",
   "execution_count": 10,
   "outputs": [
    {
     "name": "stdout",
     "output_type": "stream",
     "text": [
      "RBT\n",
      "3272\n",
      "141706\n",
      "1673\n",
      "AVL\n",
      "2189\n",
      "16160175\n",
      "1672\n"
     ]
    }
   ],
   "source": [
    "print(\"RBT\")\n",
    "rbt_rot_del = rbt.rotations\n",
    "rbt_hei_del = rbt.height()\n",
    "rbt_com_del = rbt.comparisons\n",
    "rbt_nod_del = rbt.nodes\n",
    "\n",
    "print(rbt_rot_del - rbt_rot_ins)\n",
    "print(rbt_hei_del - rbt_hei_ins)\n",
    "print(rbt_com_del - rbt_com_ins)\n",
    "print(rbt_nod_del - rbt_nod_ins)\n",
    "\n",
    "\n",
    "\n",
    "print(\"AVL\")\n",
    "avl_rot_del = avl.rotations\n",
    "avl_hei_del = avl.height()\n",
    "avl_com_del = avl.comparisons\n",
    "avl_nod_del = avl.nodes\n",
    "\n",
    "print(avl_rot_del - avl_rot_ins)\n",
    "print(avl_hei_del - avl_hei_ins)\n",
    "print(avl_com_del - avl_com_ins)\n",
    "print(avl_nod_del - avl_nod_ins)"
   ],
   "metadata": {
    "collapsed": false,
    "pycharm": {
     "name": "#%%\n"
    }
   }
  },
  {
   "cell_type": "markdown",
   "source": [
    "Set k to be a random number between 1000 and 2000."
   ],
   "metadata": {
    "collapsed": false
   }
  },
  {
   "cell_type": "code",
   "execution_count": 11,
   "outputs": [
    {
     "data": {
      "text/plain": "1731"
     },
     "execution_count": 11,
     "metadata": {},
     "output_type": "execute_result"
    }
   ],
   "source": [
    "# Pick a random number between 1000 and 2000 as k.\n",
    "k = randint(1000, 2000)\n",
    "k"
   ],
   "metadata": {
    "collapsed": false,
    "pycharm": {
     "name": "#%%\n"
    }
   }
  },
  {
   "cell_type": "markdown",
   "source": [
    "Create set Z size n containing unique random numbers between -3000 and 3000"
   ],
   "metadata": {
    "collapsed": false
   }
  },
  {
   "cell_type": "code",
   "execution_count": 12,
   "outputs": [
    {
     "data": {
      "text/plain": "1731"
     },
     "execution_count": 12,
     "metadata": {},
     "output_type": "execute_result"
    }
   ],
   "source": [
    "# Generate k random numbers between -3000 and 3000\n",
    "Z = set(sample(range(-3000, 3000), k))\n",
    "\n",
    "len(Z)"
   ],
   "metadata": {
    "collapsed": false,
    "pycharm": {
     "name": "#%%\n"
    }
   }
  },
  {
   "cell_type": "markdown",
   "source": [
    "do search and get statistics"
   ],
   "metadata": {
    "collapsed": false,
    "pycharm": {
     "name": "#%% md\n"
    }
   }
  }
 ],
 "metadata": {
  "kernelspec": {
   "display_name": "Python 3",
   "language": "python",
   "name": "python3"
  },
  "language_info": {
   "codemirror_mode": {
    "name": "ipython",
    "version": 2
   },
   "file_extension": ".py",
   "mimetype": "text/x-python",
   "name": "python",
   "nbconvert_exporter": "python",
   "pygments_lexer": "ipython2",
   "version": "2.7.6"
  }
 },
 "nbformat": 4,
 "nbformat_minor": 0
}