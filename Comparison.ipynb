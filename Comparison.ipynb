{
 "cells": [
  {
   "cell_type": "markdown",
   "source": [
    "# Imports"
   ],
   "metadata": {
    "collapsed": false,
    "pycharm": {
     "name": "#%% md\n"
    }
   }
  },
  {
   "cell_type": "code",
   "execution_count": 1,
   "metadata": {
    "collapsed": true
   },
   "outputs": [],
   "source": [
    "from AVL import AVL\n",
    "from RBT import RBT\n",
    "from random import randint, sample\n",
    "from tqdm.notebook import tqdm"
   ]
  },
  {
   "cell_type": "markdown",
   "source": [
    "Set n to be a random number between 1000 and 3000."
   ],
   "metadata": {
    "collapsed": false,
    "pycharm": {
     "name": "#%% md\n"
    }
   }
  },
  {
   "cell_type": "code",
   "execution_count": 2,
   "outputs": [
    {
     "data": {
      "text/plain": "1298"
     },
     "execution_count": 2,
     "metadata": {},
     "output_type": "execute_result"
    }
   ],
   "source": [
    "# Pick a random number between 1000 and 3000 as n.\n",
    "n = randint(1000, 3000)\n",
    "n"
   ],
   "metadata": {
    "collapsed": false,
    "pycharm": {
     "name": "#%%\n"
    }
   }
  },
  {
   "cell_type": "markdown",
   "source": [
    "Create set X size n containing unique random numbers between -3000 and 3000"
   ],
   "metadata": {
    "collapsed": false,
    "pycharm": {
     "name": "#%% md\n"
    }
   }
  },
  {
   "cell_type": "code",
   "execution_count": 3,
   "outputs": [
    {
     "data": {
      "text/plain": "1298"
     },
     "execution_count": 3,
     "metadata": {},
     "output_type": "execute_result"
    }
   ],
   "source": [
    "# Generate n random numbers between -3000 and 3000\n",
    "X = set(sample(range(-3000, 3000), n))\n",
    "\n",
    "len(X)"
   ],
   "metadata": {
    "collapsed": false,
    "pycharm": {
     "name": "#%%\n"
    }
   }
  },
  {
   "cell_type": "markdown",
   "source": [
    "Set m to be a random number between 500 and 1000."
   ],
   "metadata": {
    "collapsed": false
   }
  },
  {
   "cell_type": "code",
   "execution_count": 4,
   "outputs": [
    {
     "data": {
      "text/plain": "804"
     },
     "execution_count": 4,
     "metadata": {},
     "output_type": "execute_result"
    }
   ],
   "source": [
    "# Pick a random number between 500 and 1000 as m.\n",
    "m = randint(500, 1000)\n",
    "m"
   ],
   "metadata": {
    "collapsed": false,
    "pycharm": {
     "name": "#%%\n"
    }
   }
  },
  {
   "cell_type": "markdown",
   "source": [
    "Create set X size n containing unique random numbers between -3000 and 3000"
   ],
   "metadata": {
    "collapsed": false
   }
  },
  {
   "cell_type": "code",
   "execution_count": 5,
   "outputs": [
    {
     "data": {
      "text/plain": "804"
     },
     "execution_count": 5,
     "metadata": {},
     "output_type": "execute_result"
    }
   ],
   "source": [
    "# Generate m random numbers between -3000 and 3000\n",
    "Y = set(sample(range(-3000, 3000), m))\n",
    "\n",
    "len(Y)"
   ],
   "metadata": {
    "collapsed": false,
    "pycharm": {
     "name": "#%%\n"
    }
   }
  },
  {
   "cell_type": "markdown",
   "source": [
    "Do X and Y have common elements"
   ],
   "metadata": {
    "collapsed": false,
    "pycharm": {
     "name": "#%% md\n"
    }
   }
  },
  {
   "cell_type": "code",
   "execution_count": 6,
   "outputs": [
    {
     "data": {
      "text/plain": "187"
     },
     "execution_count": 6,
     "metadata": {},
     "output_type": "execute_result"
    }
   ],
   "source": [
    "no_common = len(set.intersection(X, Y))\n",
    "no_common"
   ],
   "metadata": {
    "collapsed": false,
    "pycharm": {
     "name": "#%%\n"
    }
   }
  },
  {
   "cell_type": "markdown",
   "source": [
    "do insertions and get statistics"
   ],
   "metadata": {
    "collapsed": false,
    "pycharm": {
     "name": "#%% md\n"
    }
   }
  },
  {
   "cell_type": "code",
   "execution_count": 7,
   "outputs": [
    {
     "data": {
      "text/plain": "  0%|          | 0/1298 [00:00<?, ?it/s]",
      "application/vnd.jupyter.widget-view+json": {
       "version_major": 2,
       "version_minor": 0,
       "model_id": "4ed501ab27524b11a311a3ab1ae77704"
      }
     },
     "metadata": {},
     "output_type": "display_data"
    }
   ],
   "source": [
    "rbt = RBT()\n",
    "avl = AVL()\n",
    "\n",
    "for item in tqdm(X):\n",
    "    rbt.insert(item)\n",
    "    avl.insert(item)\n",
    "\n"
   ],
   "metadata": {
    "collapsed": false,
    "pycharm": {
     "name": "#%%\n"
    }
   }
  },
  {
   "cell_type": "code",
   "execution_count": 8,
   "outputs": [
    {
     "name": "stdout",
     "output_type": "stream",
     "text": [
      "RBT\n",
      "1924\n",
      "19\n",
      "69714\n",
      "1298\n",
      "AVL\n",
      "1290\n",
      "11\n",
      "3844892\n",
      "1297\n"
     ]
    }
   ],
   "source": [
    "print(\"RBT\")\n",
    "rbt_rot_ins = rbt.rotations\n",
    "rbt_hei_ins = rbt.height(rbt.root)\n",
    "rbt_com_ins = rbt.comparisons\n",
    "rbt_nod_ins = rbt.nodes\n",
    "\n",
    "print(rbt_rot_ins)\n",
    "print(rbt_hei_ins)\n",
    "print(rbt_com_ins)\n",
    "print(rbt_nod_ins)\n",
    "\n",
    "\n",
    "\n",
    "print(\"AVL\")\n",
    "avl_rot_ins = avl.rotations\n",
    "avl_hei_ins = avl.height(avl.root)\n",
    "avl_com_ins = avl.comparisons\n",
    "avl_nod_ins = avl.nodes\n",
    "\n",
    "print(avl_rot_ins)\n",
    "print(avl_hei_ins)\n",
    "print(avl_com_ins)\n",
    "print(avl_nod_ins)"
   ],
   "metadata": {
    "collapsed": false,
    "pycharm": {
     "name": "#%%\n"
    }
   }
  },
  {
   "cell_type": "markdown",
   "source": [
    "Do Delete"
   ],
   "metadata": {
    "collapsed": false,
    "pycharm": {
     "name": "#%% md\n"
    }
   }
  },
  {
   "cell_type": "code",
   "execution_count": 9,
   "outputs": [
    {
     "data": {
      "text/plain": "  0%|          | 0/804 [00:00<?, ?it/s]",
      "application/vnd.jupyter.widget-view+json": {
       "version_major": 2,
       "version_minor": 0,
       "model_id": "9ee603e1ab6b4baca9de0c496b1f16a8"
      }
     },
     "metadata": {},
     "output_type": "display_data"
    }
   ],
   "source": [
    "for item in tqdm(Y):\n",
    "    rbt.delete(item)\n",
    "    avl.delete(item)"
   ],
   "metadata": {
    "collapsed": false,
    "pycharm": {
     "name": "#%%\n"
    }
   }
  },
  {
   "cell_type": "code",
   "execution_count": 10,
   "outputs": [
    {
     "name": "stdout",
     "output_type": "stream",
     "text": [
      "RBT\n",
      "22\n",
      "13\n",
      "36075\n",
      "494\n",
      "AVL\n",
      "4\n",
      "11\n",
      "4028126\n",
      "493\n"
     ]
    }
   ],
   "source": [
    "print(\"RBT\")\n",
    "rbt_rot_del = rbt.rotations\n",
    "rbt_hei_del = rbt.height(rbt.root)\n",
    "rbt_com_del = rbt.comparisons\n",
    "rbt_nod_del = rbt.nodes\n",
    "\n",
    "print(rbt_rot_del - rbt_rot_ins)\n",
    "print(rbt_hei_del)\n",
    "print(rbt_com_del - rbt_com_ins)\n",
    "print(rbt_nod_del)\n",
    "\n",
    "\n",
    "\n",
    "print(\"AVL\")\n",
    "avl_rot_del = avl.rotations\n",
    "avl_hei_del = avl.height(avl.root)\n",
    "avl_com_del = avl.comparisons\n",
    "avl_nod_del = avl.nodes\n",
    "\n",
    "print(avl_rot_del - avl_rot_ins)\n",
    "print(avl_hei_del)\n",
    "print(avl_com_del - avl_com_ins)\n",
    "print(avl_nod_del)"
   ],
   "metadata": {
    "collapsed": false,
    "pycharm": {
     "name": "#%%\n"
    }
   }
  },
  {
   "cell_type": "markdown",
   "source": [
    "Set k to be a random number between 1000 and 2000."
   ],
   "metadata": {
    "collapsed": false
   }
  },
  {
   "cell_type": "code",
   "execution_count": 11,
   "outputs": [
    {
     "data": {
      "text/plain": "1471"
     },
     "execution_count": 11,
     "metadata": {},
     "output_type": "execute_result"
    }
   ],
   "source": [
    "# Pick a random number between 1000 and 2000 as k.\n",
    "k = randint(1000, 2000)\n",
    "k"
   ],
   "metadata": {
    "collapsed": false,
    "pycharm": {
     "name": "#%%\n"
    }
   }
  },
  {
   "cell_type": "markdown",
   "source": [
    "Create set Z size n containing unique random numbers between -3000 and 3000"
   ],
   "metadata": {
    "collapsed": false
   }
  },
  {
   "cell_type": "code",
   "execution_count": 12,
   "outputs": [
    {
     "data": {
      "text/plain": "1471"
     },
     "execution_count": 12,
     "metadata": {},
     "output_type": "execute_result"
    }
   ],
   "source": [
    "# Generate k random numbers between -3000 and 3000\n",
    "Z = set(sample(range(-3000, 3000), k))\n",
    "\n",
    "len(Z)"
   ],
   "metadata": {
    "collapsed": false,
    "pycharm": {
     "name": "#%%\n"
    }
   }
  },
  {
   "cell_type": "markdown",
   "source": [
    "do search and get statistics"
   ],
   "metadata": {
    "collapsed": false,
    "pycharm": {
     "name": "#%% md\n"
    }
   }
  },
  {
   "cell_type": "code",
   "execution_count": 13,
   "outputs": [
    {
     "data": {
      "text/plain": "  0%|          | 0/1471 [00:00<?, ?it/s]",
      "application/vnd.jupyter.widget-view+json": {
       "version_major": 2,
       "version_minor": 0,
       "model_id": "c4e5ef879de7494d9adb5846b3338763"
      }
     },
     "metadata": {},
     "output_type": "display_data"
    }
   ],
   "source": [
    "for item in tqdm(Z):\n",
    "    rbt.search(item, rbt.root)\n",
    "    avl.search(item, avl.root)"
   ],
   "metadata": {
    "collapsed": false,
    "pycharm": {
     "name": "#%%\n"
    }
   }
  },
  {
   "cell_type": "code",
   "execution_count": 14,
   "outputs": [
    {
     "name": "stdout",
     "output_type": "stream",
     "text": [
      "RBT\n",
      "1946\n",
      "13\n",
      "63761\n",
      "494\n",
      "AVL\n",
      "1294\n",
      "11\n",
      "60344\n",
      "493\n"
     ]
    }
   ],
   "source": [
    "print(\"RBT\")\n",
    "rbt_rot_search = rbt.rotations\n",
    "rbt_hei_search = rbt.height(rbt.root)\n",
    "rbt_com_search = rbt.comparisons\n",
    "rbt_nod_search = rbt.nodes\n",
    "\n",
    "print(rbt_rot_search)\n",
    "print(rbt_hei_search)\n",
    "print(rbt_com_search - rbt_com_del)\n",
    "print(rbt_nod_search)\n",
    "\n",
    "\n",
    "\n",
    "print(\"AVL\")\n",
    "avl_rot_search = avl.rotations\n",
    "avl_hei_search = avl.height(avl.root)\n",
    "avl_com_search = avl.comparisons\n",
    "avl_nod_search = avl.nodes\n",
    "\n",
    "print(avl_rot_search)\n",
    "print(avl_hei_search)\n",
    "print(avl_com_search - avl_com_del)\n",
    "print(avl_nod_search)"
   ],
   "metadata": {
    "collapsed": false,
    "pycharm": {
     "name": "#%%\n"
    }
   }
  }
 ],
 "metadata": {
  "kernelspec": {
   "display_name": "Python 3",
   "language": "python",
   "name": "python3"
  },
  "language_info": {
   "codemirror_mode": {
    "name": "ipython",
    "version": 2
   },
   "file_extension": ".py",
   "mimetype": "text/x-python",
   "name": "python",
   "nbconvert_exporter": "python",
   "pygments_lexer": "ipython2",
   "version": "2.7.6"
  }
 },
 "nbformat": 4,
 "nbformat_minor": 0
}